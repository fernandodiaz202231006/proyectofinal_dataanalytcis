{
 "cells": [
  {
   "cell_type": "markdown",
   "metadata": {
    "id": "KDpCUOzJPYc2"
   },
   "source": [
    "\n",
    "# Import the dataset\n",
    "\n"
   ]
  },
  {
   "cell_type": "markdown",
   "metadata": {
    "id": "qiXWqkngaC96"
   },
   "source": [
    "### Import libraries"
   ]
  },
  {
   "cell_type": "code",
   "execution_count": 2,
   "metadata": {
    "id": "IrdDsyLkTZpc"
   },
   "outputs": [],
   "source": [
    "import numpy as np\n",
    "import pandas as pd"
   ]
  },
  {
   "cell_type": "markdown",
   "metadata": {},
   "source": [
    "### Construyendo la tabla de datos principal"
   ]
  },
  {
   "cell_type": "code",
   "execution_count": 2,
   "metadata": {
    "colab": {
     "base_uri": "https://localhost:8080/"
    },
    "id": "oSsxEqjzTuH_",
    "outputId": "6b5088a8-e963-4dc7-ec11-c465719d6f96"
   },
   "outputs": [
    {
     "name": "stdout",
     "output_type": "stream",
     "text": [
      "https://raw.githubusercontent.com/JeffSackmann/tennis_atp/master/atp_matches_2005.csv\n",
      "https://raw.githubusercontent.com/JeffSackmann/tennis_atp/master/atp_matches_2006.csv\n",
      "https://raw.githubusercontent.com/JeffSackmann/tennis_atp/master/atp_matches_2007.csv\n",
      "https://raw.githubusercontent.com/JeffSackmann/tennis_atp/master/atp_matches_2008.csv\n",
      "https://raw.githubusercontent.com/JeffSackmann/tennis_atp/master/atp_matches_2009.csv\n",
      "https://raw.githubusercontent.com/JeffSackmann/tennis_atp/master/atp_matches_2010.csv\n",
      "https://raw.githubusercontent.com/JeffSackmann/tennis_atp/master/atp_matches_2011.csv\n",
      "https://raw.githubusercontent.com/JeffSackmann/tennis_atp/master/atp_matches_2012.csv\n",
      "https://raw.githubusercontent.com/JeffSackmann/tennis_atp/master/atp_matches_2013.csv\n",
      "https://raw.githubusercontent.com/JeffSackmann/tennis_atp/master/atp_matches_2014.csv\n",
      "https://raw.githubusercontent.com/JeffSackmann/tennis_atp/master/atp_matches_2015.csv\n",
      "https://raw.githubusercontent.com/JeffSackmann/tennis_atp/master/atp_matches_2016.csv\n",
      "https://raw.githubusercontent.com/JeffSackmann/tennis_atp/master/atp_matches_2017.csv\n",
      "https://raw.githubusercontent.com/JeffSackmann/tennis_atp/master/atp_matches_2018.csv\n",
      "https://raw.githubusercontent.com/JeffSackmann/tennis_atp/master/atp_matches_2019.csv\n",
      "https://raw.githubusercontent.com/JeffSackmann/tennis_atp/master/atp_matches_2020.csv\n",
      "https://raw.githubusercontent.com/JeffSackmann/tennis_atp/master/atp_matches_2021.csv\n",
      "https://raw.githubusercontent.com/JeffSackmann/tennis_atp/master/atp_matches_2022.csv\n",
      "https://raw.githubusercontent.com/JeffSackmann/tennis_atp/master/atp_matches_2023.csv\n"
     ]
    }
   ],
   "source": [
    "ext = '.csv'\n",
    "start = 2005\n",
    "end = 2023\n",
    "ft = 'https://raw.githubusercontent.com/JeffSackmann/tennis_atp/master/atp_matches_'\n",
    "\n",
    "def readfiles(ft,st,en):\n",
    "    l = []\n",
    "    for i in range(st,en+1):\n",
    "        p = ft + str(i)+ ext\n",
    "        print(p)\n",
    "        df = pd.read_csv(p)\n",
    "        l.append(df)\n",
    "        #print(df.head(2))\n",
    "    return l\n",
    "\n",
    "files = readfiles(ft,start,end)\n",
    "all_matches = pd.concat(files)"
   ]
  },
  {
   "cell_type": "code",
   "execution_count": 50,
   "metadata": {},
   "outputs": [],
   "source": [
    "all_matches['tourney_date'] = all_matches['tourney_date'].apply(lambda x: pd.to_datetime(str(x), format='%Y%m%d'))\n"
   ]
  },
  {
   "cell_type": "code",
   "execution_count": 51,
   "metadata": {
    "collapsed": true
   },
   "outputs": [
    {
     "data": {
      "text/plain": [
       "0      2005-10-17\n",
       "1      2005-10-17\n",
       "2      2005-10-17\n",
       "3      2005-10-17\n",
       "4      2005-10-17\n",
       "          ...    \n",
       "2364   2023-02-04\n",
       "2365   2023-02-03\n",
       "2366   2023-02-03\n",
       "2367   2023-02-03\n",
       "2368   2023-02-03\n",
       "Name: tourney_date, Length: 54809, dtype: datetime64[ns]"
      ]
     },
     "execution_count": 51,
     "metadata": {},
     "output_type": "execute_result"
    }
   ],
   "source": [
    "all_matches['tourney_date']"
   ]
  },
  {
   "cell_type": "code",
   "execution_count": 9,
   "metadata": {},
   "outputs": [
    {
     "data": {
      "text/plain": [
       "49834"
      ]
     },
     "execution_count": 9,
     "metadata": {},
     "output_type": "execute_result"
    }
   ],
   "source": [
    "filtro_davis=all_matches['tourney_name'].str.contains('Davis')\n",
    "all_matches=all_matches[~filtro_davis]\n",
    "len(all_matches)"
   ]
  },
  {
   "cell_type": "code",
   "execution_count": 44,
   "metadata": {},
   "outputs": [],
   "source": [
    "all_matches = all_matches.sample(frac=1, random_state=42)"
   ]
  },
  {
   "cell_type": "code",
   "execution_count": 45,
   "metadata": {},
   "outputs": [],
   "source": [
    "length = len(all_matches)/2\n",
    "\n",
    "y= []\n",
    "for i in range(int(length)):\n",
    "    y.append(0)\n",
    "    \n",
    "for i in range(int(length)):\n",
    "    y.append(1)\n",
    "    \n",
    "all_matches['y'] = pd.Series(y, index=all_matches.index)"
   ]
  },
  {
   "cell_type": "code",
   "execution_count": 46,
   "metadata": {},
   "outputs": [],
   "source": [
    "all_matches1 = all_matches[:int(length)]\n",
    "all_matches2 = all_matches[int(length):]\n"
   ]
  },
  {
   "cell_type": "code",
   "execution_count": 47,
   "metadata": {
    "collapsed": true
   },
   "outputs": [
    {
     "name": "stderr",
     "output_type": "stream",
     "text": [
      "C:\\Users\\ferna\\AppData\\Local\\Temp\\ipykernel_2548\\2414733624.py:1: SettingWithCopyWarning: \n",
      "A value is trying to be set on a copy of a slice from a DataFrame\n",
      "\n",
      "See the caveats in the documentation: https://pandas.pydata.org/pandas-docs/stable/user_guide/indexing.html#returning-a-view-versus-a-copy\n",
      "  all_matches1.rename(columns={'loser_id':'Player1_id', 'loser_seed':'Player1_seed', 'loser_entry':'Player1_entry', 'loser_name':'Player1_name', 'loser_hand':'Player1_hand', 'loser_ht':'Player1_ht', 'loser_ioc':'Player1_ioc', 'loser_age':'Player1_age', 'loser_rank':'Player1_rank', 'loser_rank_points':'Player1_rank_points','winner_id':'Player2_id', 'winner_seed':'Player2_seed', 'winner_entry':'Player2_entry', 'winner_name':'Player2_name', 'winner_hand':'Player2_hand', 'winner_ht':'Player2_ht', 'winner_ioc':'Player2_ioc', 'winner_age':'Player2_age', 'winner_rank':'Player2_rank', 'winner_rank_points':'Player2_rank_points'},inplace=True)\n",
      "C:\\Users\\ferna\\AppData\\Local\\Temp\\ipykernel_2548\\2414733624.py:2: SettingWithCopyWarning: \n",
      "A value is trying to be set on a copy of a slice from a DataFrame\n",
      "\n",
      "See the caveats in the documentation: https://pandas.pydata.org/pandas-docs/stable/user_guide/indexing.html#returning-a-view-versus-a-copy\n",
      "  all_matches2.rename(columns={'loser_id':'Player2_id', 'loser_seed':'Player2_seed', 'loser_entry':'Player2_entry', 'loser_name':'Player2_name', 'loser_hand':'Player2_hand', 'loser_ht':'Player2_ht', 'loser_ioc':'Player2_ioc', 'loser_age':'Player2_age', 'loser_rank':'Player2_rank', 'loser_rank_points':'Player2_rank_points','winner_id':'Player1_id', 'winner_seed':'Player1_seed', 'winner_entry':'Player1_entry', 'winner_name':'Player1_name', 'winner_hand':'Player1_hand', 'winner_ht':'Player1_ht', 'winner_ioc':'Player1_ioc', 'winner_age':'Player1_age', 'winner_rank':'Player1_rank', 'winner_rank_points':'Player1_rank_points'},inplace=True)\n"
     ]
    }
   ],
   "source": [
    "all_matches1.rename(columns={'loser_id':'Player1_id', 'loser_seed':'Player1_seed', 'loser_entry':'Player1_entry', 'loser_name':'Player1_name', 'loser_hand':'Player1_hand', 'loser_ht':'Player1_ht', 'loser_ioc':'Player1_ioc', 'loser_age':'Player1_age', 'loser_rank':'Player1_rank', 'loser_rank_points':'Player1_rank_points','winner_id':'Player2_id', 'winner_seed':'Player2_seed', 'winner_entry':'Player2_entry', 'winner_name':'Player2_name', 'winner_hand':'Player2_hand', 'winner_ht':'Player2_ht', 'winner_ioc':'Player2_ioc', 'winner_age':'Player2_age', 'winner_rank':'Player2_rank', 'winner_rank_points':'Player2_rank_points'},inplace=True)\n",
    "all_matches2.rename(columns={'loser_id':'Player2_id', 'loser_seed':'Player2_seed', 'loser_entry':'Player2_entry', 'loser_name':'Player2_name', 'loser_hand':'Player2_hand', 'loser_ht':'Player2_ht', 'loser_ioc':'Player2_ioc', 'loser_age':'Player2_age', 'loser_rank':'Player2_rank', 'loser_rank_points':'Player2_rank_points','winner_id':'Player1_id', 'winner_seed':'Player1_seed', 'winner_entry':'Player1_entry', 'winner_name':'Player1_name', 'winner_hand':'Player1_hand', 'winner_ht':'Player1_ht', 'winner_ioc':'Player1_ioc', 'winner_age':'Player1_age', 'winner_rank':'Player1_rank', 'winner_rank_points':'Player1_rank_points'},inplace=True)\n"
   ]
  },
  {
   "cell_type": "code",
   "execution_count": 48,
   "metadata": {},
   "outputs": [],
   "source": [
    "cc = [all_matches1,all_matches2]\n",
    "all_matches_final= pd.concat(cc)"
   ]
  },
  {
   "cell_type": "code",
   "execution_count": 49,
   "metadata": {
    "id": "z9AEEfaVXebZ"
   },
   "outputs": [],
   "source": [
    "from sklearn.utils import shuffle\n",
    "\n",
    "#all_matches_final=all_matches_final[all_matches_final['tourney_date']>='2003-01-01']\n",
    "all_matches_final = shuffle(all_matches_final)\n",
    "#all_matches_final=all_matches_final[all_matches_final['Player1_rank']<=100]\n",
    "#all_matches_final=all_matches_final[all_matches_final['Player2_rank']<=100]\n",
    "#all_matches_final=all_matches_final[all_matches_final['tourney_level'].isin(['G','M'])]\n",
    "#all_matches_final.to_csv('C:/Users/ferna/Desktop/UTEC/Tesis 2/codigo/github_info/all_matches_final.csv', encoding='utf-8', index=False)"
   ]
  },
  {
   "cell_type": "markdown",
   "metadata": {},
   "source": [
    "### Estadísticas de los últimos partidos"
   ]
  },
  {
   "cell_type": "code",
   "execution_count": 51,
   "metadata": {
    "collapsed": true
   },
   "outputs": [
    {
     "name": "stderr",
     "output_type": "stream",
     "text": [
      "C:\\Users\\ferna\\AppData\\Local\\Temp\\ipykernel_2548\\4002528270.py:6: SettingWithCopyWarning: \n",
      "A value is trying to be set on a copy of a slice from a DataFrame.\n",
      "Try using .loc[row_indexer,col_indexer] = value instead\n",
      "\n",
      "See the caveats in the documentation: https://pandas.pydata.org/pandas-docs/stable/user_guide/indexing.html#returning-a-view-versus-a-copy\n",
      "  data_jugador1['resultado']='winner'\n",
      "C:\\Users\\ferna\\AppData\\Local\\Temp\\ipykernel_2548\\4002528270.py:15: SettingWithCopyWarning: \n",
      "A value is trying to be set on a copy of a slice from a DataFrame.\n",
      "Try using .loc[row_indexer,col_indexer] = value instead\n",
      "\n",
      "See the caveats in the documentation: https://pandas.pydata.org/pandas-docs/stable/user_guide/indexing.html#returning-a-view-versus-a-copy\n",
      "  data_jugador2['resultado']='loser'\n"
     ]
    },
    {
     "data": {
      "text/plain": [
       "99668"
      ]
     },
     "execution_count": 51,
     "metadata": {},
     "output_type": "execute_result"
    }
   ],
   "source": [
    "data = all_matches.sort_values(by='tourney_date')\n",
    "data_jugador1=data[['tourney_name', 'surface','tourney_level', 'tourney_date',\n",
    "                    'winner_id', 'winner_name', 'winner_hand','winner_ht', 'winner_ioc', 'winner_age', \n",
    "                    'score', 'best_of', 'round', 'minutes', \n",
    "                    'w_ace', 'w_df','w_svpt', 'w_1stIn', 'w_1stWon', 'w_2ndWon', 'w_SvGms', 'w_bpSaved','w_bpFaced']]\n",
    "data_jugador1['resultado']='winner'\n",
    "data_jugador1.columns=['tourney_name', 'surface','tourney_level', 'tourney_date',\n",
    "                       'id', 'name', 'hand','ht', 'ioc', 'age', \n",
    "                       'score', 'best_of', 'round', 'minutes', \n",
    "                       'ace', 'df','svpt', '1stIn', '1stWon', '2ndWon', 'SvGms', 'bpSaved','bpFaced','resultado']\n",
    "data_jugador2=data[['tourney_name', 'surface','tourney_level', 'tourney_date',\n",
    "                    'loser_id','loser_name', 'loser_hand', 'loser_ht', 'loser_ioc','loser_age',\n",
    "                    'score', 'best_of', 'round', 'minutes', \n",
    "                    'l_ace', 'l_df', 'l_svpt', 'l_1stIn', 'l_1stWon','l_2ndWon', 'l_SvGms', 'l_bpSaved', 'l_bpFaced']]\n",
    "data_jugador2['resultado']='loser'\n",
    "data_jugador2.columns=['tourney_name', 'surface','tourney_level', 'tourney_date',\n",
    "                       'id', 'name', 'hand','ht', 'ioc', 'age', \n",
    "                       'score', 'best_of', 'round', 'minutes', \n",
    "                       'ace', 'df','svpt', '1stIn', '1stWon', '2ndWon', 'SvGms', 'bpSaved','bpFaced','resultado']\n",
    "\n",
    "\n",
    "data_completa=pd.concat([data_jugador1,data_jugador2])\n",
    "data_completa=data_completa.sort_values(by=['name','tourney_date'])\n",
    "len(data_completa)"
   ]
  },
  {
   "cell_type": "code",
   "execution_count": 52,
   "metadata": {},
   "outputs": [],
   "source": [
    "# Estadísticas de los últimos 5 partidos\n",
    "\n",
    "data_completa.sort_values(by=['name', 'tourney_date'], inplace=True)\n",
    "variables_a_promediar = ['ace', 'df', 'svpt', '1stIn', '1stWon', '2ndWon', 'SvGms','bpSaved', 'bpFaced']\n",
    "\n",
    "\n",
    "for variable in variables_a_promediar:\n",
    "    data_completa[f'promedio_ultimas_5_{variable}'] = data_completa.groupby('name')[variable].rolling(5, min_periods=1).mean().reset_index(level=0, drop=True)"
   ]
  },
  {
   "cell_type": "code",
   "execution_count": 53,
   "metadata": {},
   "outputs": [],
   "source": [
    "# Superficie\n",
    "\n",
    "data_completa = data_completa.sort_values(by='tourney_date')\n",
    "\n",
    "grouped = data_completa.groupby(['name', 'surface'])\n",
    "result = grouped['resultado'].value_counts(normalize=True).unstack(fill_value=0)\n",
    "win_rate = result['winner']\n",
    "win_rate=win_rate.reset_index()\n",
    "\n",
    "matches_count = grouped.size().reset_index(name='matches_count_superficie')\n",
    "superficie = matches_count.merge(win_rate, on=['name', 'surface'])\n",
    "superficie.columns=['name', 'surface', 'matches_count_superficie', 'winner_superficie']\n",
    "\n",
    "superficie = superficie.drop_duplicates()\n"
   ]
  },
  {
   "cell_type": "code",
   "execution_count": 54,
   "metadata": {},
   "outputs": [],
   "source": [
    "# Tourney_name\n",
    "\n",
    "data_completa = data_completa.sort_values(by='tourney_date')\n",
    "\n",
    "\n",
    "grouped = data_completa.groupby(['name', 'tourney_name'])\n",
    "result = grouped['resultado'].value_counts(normalize=True).unstack(fill_value=0)\n",
    "win_rate = result['winner']\n",
    "win_rate=win_rate.reset_index()\n",
    "\n",
    "matches_count = grouped.size().reset_index(name='matches_count_tourneyname')\n",
    "tourney_name = matches_count.merge(win_rate, on=['name', 'tourney_name'])\n",
    "tourney_name.columns=['name', 'tourney_name', 'matches_count_tourneyname', 'winner_tourneyname']\n",
    "\n",
    "tourney_name=tourney_name.drop_duplicates()"
   ]
  },
  {
   "cell_type": "code",
   "execution_count": 55,
   "metadata": {},
   "outputs": [],
   "source": [
    "# Tourney_level\n",
    "\n",
    "grouped = data_completa.groupby(['name', 'tourney_level'])\n",
    "result = grouped['resultado'].value_counts(normalize=True).unstack(fill_value=0)\n",
    "win_rate = result['winner']\n",
    "win_rate=win_rate.reset_index()\n",
    "\n",
    "matches_count = grouped.size().reset_index(name='matches_count')\n",
    "tourney_level = matches_count.merge(win_rate, on=['name', 'tourney_level'])\n",
    "tourney_level.columns=['name', 'tourney_level', 'matches_count_tourneylevel', 'winner_tourneylevel']\n",
    "\n",
    "tourney_level=tourney_level.drop_duplicates()"
   ]
  },
  {
   "cell_type": "markdown",
   "metadata": {},
   "source": [
    "### VS entre jugadores"
   ]
  },
  {
   "cell_type": "code",
   "execution_count": 172,
   "metadata": {},
   "outputs": [],
   "source": [
    "data = all_matches.sort_values(by='tourney_date')\n",
    "data_jugador1=data[['tourney_date','winner_name','loser_name']]\n",
    "data_jugador1['resultado']='winner'\n",
    "data_jugador1.columns=['tourney_date', 'jugador1','jugador2','resultado']\n",
    "\n",
    "data_jugador2=data[['tourney_date','loser_name','winner_name']]\n",
    "data_jugador2['resultado']='loser'\n",
    "data_jugador2.columns=['tourney_date', 'jugador1','jugador2','resultado']\n",
    "\n",
    "data_completa=pd.concat([data_jugador1,data_jugador2])\n",
    "data_completa=data_completa.sort_values(by=['tourney_date'])\n",
    "len(data_completa)\n",
    "\n",
    "\n",
    "data_completa['tourney_date'] = pd.to_datetime(data_completa['tourney_date'])\n",
    "\n",
    "# Ordenamos el DataFrame por fecha\n",
    "data_completa = data_completa.sort_values(by='tourney_date')\n",
    "\n",
    "# Inicializamos una lista para almacenar los resultados\n",
    "results = []\n",
    "\n",
    "# Iteramos a través de las filas del DataFrame\n",
    "for index, row in data_completa.iterrows():\n",
    "    # Filtramos los datos para obtener los partidos hasta antes de la fecha actual\n",
    "    filtered_data = data_completa[(data_completa['tourney_date'] < row['tourney_date']) &\n",
    "                                  (data_completa['jugador1'] == row['jugador1']) &\n",
    "                                  (data_completa['jugador2'] == row['jugador2'])]\n",
    "    \n",
    "    # Realizamos el mismo proceso que describiste para calcular el win_rate\n",
    "    grouped = filtered_data.groupby(['jugador1', 'jugador2'])\n",
    "    result = grouped['resultado'].value_counts(normalize=True).unstack(fill_value=0)\n",
    "    \n",
    "    # Agregamos una columna 'winner' con valor 0 en caso de que no exista\n",
    "    if 'winner' not in result.columns:\n",
    "        result['winner'] = 0\n",
    "    \n",
    "    win_rate = result['winner'].reset_index()\n",
    "    \n",
    "    # Almacenamos la fecha actual en el resultado\n",
    "    win_rate['tourney_date'] = row['tourney_date']\n",
    "    \n",
    "    # Agregamos los resultados a la lista\n",
    "    results.append(win_rate)\n",
    "\n",
    "# Concatenamos todos los resultados en un único DataFrame\n",
    "final_result = pd.concat(results, ignore_index=True)"
   ]
  },
  {
   "cell_type": "markdown",
   "metadata": {},
   "source": [
    "### Merge de tablas"
   ]
  },
  {
   "cell_type": "code",
   "execution_count": 56,
   "metadata": {},
   "outputs": [
    {
     "data": {
      "text/plain": [
       "49834"
      ]
     },
     "execution_count": 56,
     "metadata": {},
     "output_type": "execute_result"
    }
   ],
   "source": [
    "len(all_matches_final)"
   ]
  },
  {
   "cell_type": "code",
   "execution_count": 57,
   "metadata": {},
   "outputs": [],
   "source": [
    "# Merge superficie\n",
    "merged_df = pd.merge(all_matches_final,superficie, left_on=['Player1_name','surface'], right_on=['name','surface'], how='left')\n",
    "merged_df = pd.merge(merged_df,superficie, left_on=['Player2_name','surface'], right_on=['name','surface'], how='left')"
   ]
  },
  {
   "cell_type": "code",
   "execution_count": 58,
   "metadata": {},
   "outputs": [
    {
     "data": {
      "text/plain": [
       "49834"
      ]
     },
     "execution_count": 58,
     "metadata": {},
     "output_type": "execute_result"
    }
   ],
   "source": [
    "len(merged_df)"
   ]
  },
  {
   "cell_type": "code",
   "execution_count": 59,
   "metadata": {},
   "outputs": [
    {
     "name": "stderr",
     "output_type": "stream",
     "text": [
      "C:\\Users\\ferna\\AppData\\Local\\Temp\\ipykernel_2548\\2126587641.py:3: FutureWarning: Passing 'suffixes' which cause duplicate columns {'name_x'} in the result is deprecated and will raise a MergeError in a future version.\n",
      "  merged_df = pd.merge(merged_df,tourney_name, left_on=['Player2_name','tourney_name'], right_on=['name','tourney_name'], how='left')\n"
     ]
    }
   ],
   "source": [
    "# Merge tourney name\n",
    "merged_df = pd.merge(merged_df,tourney_name, left_on=['Player1_name','tourney_name'], right_on=['name','tourney_name'], how='left')\n",
    "merged_df = pd.merge(merged_df,tourney_name, left_on=['Player2_name','tourney_name'], right_on=['name','tourney_name'], how='left')"
   ]
  },
  {
   "cell_type": "code",
   "execution_count": 60,
   "metadata": {},
   "outputs": [
    {
     "data": {
      "text/plain": [
       "49834"
      ]
     },
     "execution_count": 60,
     "metadata": {},
     "output_type": "execute_result"
    }
   ],
   "source": [
    "len(merged_df)"
   ]
  },
  {
   "cell_type": "code",
   "execution_count": 61,
   "metadata": {},
   "outputs": [
    {
     "name": "stderr",
     "output_type": "stream",
     "text": [
      "C:\\Users\\ferna\\AppData\\Local\\Temp\\ipykernel_2548\\4044302382.py:3: FutureWarning: Passing 'suffixes' which cause duplicate columns {'name_x'} in the result is deprecated and will raise a MergeError in a future version.\n",
      "  merged_df = pd.merge(merged_df,tourney_level, left_on=['Player2_name','tourney_level'], right_on=['name','tourney_level'], how='left')\n"
     ]
    }
   ],
   "source": [
    "# Merge tourney level\n",
    "merged_df = pd.merge(merged_df,tourney_level, left_on=['Player1_name','tourney_level'], right_on=['name','tourney_level'], how='left')\n",
    "merged_df = pd.merge(merged_df,tourney_level, left_on=['Player2_name','tourney_level'], right_on=['name','tourney_level'], how='left')"
   ]
  },
  {
   "cell_type": "code",
   "execution_count": 62,
   "metadata": {},
   "outputs": [
    {
     "data": {
      "text/plain": [
       "49834"
      ]
     },
     "execution_count": 62,
     "metadata": {},
     "output_type": "execute_result"
    }
   ],
   "source": [
    "len(merged_df)"
   ]
  },
  {
   "cell_type": "code",
   "execution_count": 64,
   "metadata": {},
   "outputs": [],
   "source": [
    "# Merge vs histórico\n",
    "merged_df['tourney_date'] = pd.to_datetime(merged_df['tourney_date'])\n",
    "merged_df = pd.merge(merged_df,final_result, left_on=['Player1_name','Player2_name','tourney_date'], right_on=['jugador1','jugador2','tourney_date'], how='left')\n"
   ]
  },
  {
   "cell_type": "code",
   "execution_count": 65,
   "metadata": {},
   "outputs": [
    {
     "data": {
      "text/plain": [
       "49834"
      ]
     },
     "execution_count": 65,
     "metadata": {},
     "output_type": "execute_result"
    }
   ],
   "source": [
    "len(merged_df)"
   ]
  },
  {
   "cell_type": "code",
   "execution_count": null,
   "metadata": {},
   "outputs": [],
   "source": [
    "# Merge estadísticas"
   ]
  },
  {
   "cell_type": "code",
   "execution_count": 66,
   "metadata": {},
   "outputs": [],
   "source": [
    "estadisticas=data_completa.drop_duplicates(subset=['name','tourney_date'], keep='first')"
   ]
  },
  {
   "cell_type": "code",
   "execution_count": 67,
   "metadata": {},
   "outputs": [],
   "source": [
    "estadisticas=estadisticas[['name','tourney_date','promedio_ultimas_5_ace',\n",
    "                           'promedio_ultimas_5_df', 'promedio_ultimas_5_svpt',\n",
    "                           'promedio_ultimas_5_1stIn', 'promedio_ultimas_5_1stWon',\n",
    "                           'promedio_ultimas_5_2ndWon', 'promedio_ultimas_5_SvGms',\n",
    "                           'promedio_ultimas_5_bpSaved', 'promedio_ultimas_5_bpFaced']]"
   ]
  },
  {
   "cell_type": "code",
   "execution_count": 68,
   "metadata": {},
   "outputs": [
    {
     "name": "stderr",
     "output_type": "stream",
     "text": [
      "C:\\Users\\ferna\\AppData\\Local\\Temp\\ipykernel_2548\\3802749209.py:3: FutureWarning: Passing 'suffixes' which cause duplicate columns {'name_x'} in the result is deprecated and will raise a MergeError in a future version.\n",
      "  merged_df = pd.merge(merged_df,estadisticas, left_on=['Player2_name','tourney_date'], right_on=['name','tourney_date'], how='left')\n"
     ]
    }
   ],
   "source": [
    "merged_df['tourney_date'] = pd.to_datetime(merged_df['tourney_date'])\n",
    "merged_df = pd.merge(merged_df,estadisticas, left_on=['Player1_name','tourney_date'], right_on=['name','tourney_date'], how='left')\n",
    "merged_df = pd.merge(merged_df,estadisticas, left_on=['Player2_name','tourney_date'], right_on=['name','tourney_date'], how='left')"
   ]
  },
  {
   "cell_type": "code",
   "execution_count": 69,
   "metadata": {},
   "outputs": [
    {
     "data": {
      "text/plain": [
       "49834"
      ]
     },
     "execution_count": 69,
     "metadata": {},
     "output_type": "execute_result"
    }
   ],
   "source": [
    "len(merged_df)"
   ]
  },
  {
   "cell_type": "code",
   "execution_count": 72,
   "metadata": {},
   "outputs": [],
   "source": [
    "merged_df=merged_df[['tourney_id', 'tourney_name', 'surface', 'draw_size', 'tourney_level', 'tourney_date', 'match_num',\n",
    "                     'Player1_id', 'Player1_seed','Player1_entry', 'Player1_name', 'Player1_hand', 'Player1_ht','Player1_ioc', 'Player1_age', \n",
    "                     'Player2_id', 'Player2_seed','Player2_entry', 'Player2_name', 'Player2_hand', 'Player2_ht','Player2_ioc', 'Player2_age', \n",
    "                     'score', 'best_of', 'round', 'minutes',\n",
    "       'w_ace', 'w_df', 'w_svpt', 'w_1stIn', 'w_1stWon', 'w_2ndWon', 'w_SvGms',\n",
    "       'w_bpSaved', 'w_bpFaced', \n",
    "       'l_ace', 'l_df', 'l_svpt', 'l_1stIn',\n",
    "       'l_1stWon', 'l_2ndWon', 'l_SvGms', 'l_bpSaved', 'l_bpFaced',\n",
    "       'Player1_rank','Player1_rank_points', 'Player2_rank', 'Player2_rank_points', \n",
    "                     \n",
    "       'matches_count_superficie_x','winner_superficie_x','matches_count_superficie_y','winner_superficie_y',\n",
    "       'matches_count_tourneyname_x','winner_tourneyname_x', 'matches_count_tourneyname_y','winner_tourneyname_y',\n",
    "       'matches_count_tourneylevel_x','winner_tourneylevel_x','matches_count_tourneylevel_y','winner_tourneylevel_y', \n",
    "       'winner',\n",
    "       'promedio_ultimas_5_ace_x', 'promedio_ultimas_5_df_x',\n",
    "       'promedio_ultimas_5_svpt_x', 'promedio_ultimas_5_1stIn_x',\n",
    "       'promedio_ultimas_5_1stWon_x', 'promedio_ultimas_5_2ndWon_x',\n",
    "       'promedio_ultimas_5_SvGms_x', 'promedio_ultimas_5_bpSaved_x',\n",
    "       'promedio_ultimas_5_bpFaced_x',\n",
    "       'promedio_ultimas_5_ace_y','promedio_ultimas_5_df_y', \n",
    "       'promedio_ultimas_5_svpt_y','promedio_ultimas_5_1stIn_y',\n",
    "       'promedio_ultimas_5_1stWon_y','promedio_ultimas_5_2ndWon_y',\n",
    "       'promedio_ultimas_5_SvGms_y','promedio_ultimas_5_bpSaved_y',\n",
    "       'promedio_ultimas_5_bpFaced_y',\n",
    "       'y']]"
   ]
  },
  {
   "cell_type": "code",
   "execution_count": 75,
   "metadata": {},
   "outputs": [],
   "source": [
    "merged_df.columns=['tourney_id', 'tourney_name', 'surface', 'draw_size', 'tourney_level', 'tourney_date', 'match_num',\n",
    "                     'Player1_id', 'Player1_seed','Player1_entry', 'Player1_name', 'Player1_hand', 'Player1_ht','Player1_ioc', 'Player1_age', \n",
    "                     'Player2_id', 'Player2_seed','Player2_entry', 'Player2_name', 'Player2_hand', 'Player2_ht','Player2_ioc', 'Player2_age', \n",
    "                     'score', 'best_of', 'round', 'minutes',\n",
    "       'w_ace', 'w_df', 'w_svpt', 'w_1stIn', 'w_1stWon', 'w_2ndWon', 'w_SvGms',\n",
    "       'w_bpSaved', 'w_bpFaced', \n",
    "       'l_ace', 'l_df', 'l_svpt', 'l_1stIn',\n",
    "       'l_1stWon', 'l_2ndWon', 'l_SvGms', 'l_bpSaved', 'l_bpFaced',\n",
    "       'Player1_rank','Player1_rank_points', 'Player2_rank', 'Player2_rank_points',             \n",
    "       'matches_count_superficie_Player1','winner_superficie_Player1','matches_count_superficie_Player2','winner_superficie_Player2',\n",
    "       'matches_count_tourneyname_Player1','winner_tourneyname_Player1', 'matches_count_tourneyname_Player2','winner_tourneyname_Player2',\n",
    "       'matches_count_tourneylevel_Player1','winner_tourneylevel_Player1','matches_count_tourneylevel_Player2','winner_tourneylevel_Player2', \n",
    "       'winner',\n",
    "       'promedio_ultimas_5_ace_Player1', 'promedio_ultimas_5_df_Player1',\n",
    "       'promedio_ultimas_5_svpt_Player1', 'promedio_ultimas_5_1stIn_Player1',\n",
    "       'promedio_ultimas_5_1stWon_Player1', 'promedio_ultimas_5_2ndWon_Player1',\n",
    "       'promedio_ultimas_5_SvGms_Player1', 'promedio_ultimas_5_bpSaved_Player1',\n",
    "       'promedio_ultimas_5_bpFaced_Player1',\n",
    "       'promedio_ultimas_5_ace_Player2','promedio_ultimas_5_df_Player2', \n",
    "       'promedio_ultimas_5_svpt_Player2','promedio_ultimas_5_1stIn_Player2',\n",
    "       'promedio_ultimas_5_1stWon_Player2','promedio_ultimas_5_2ndWon_Player2',\n",
    "       'promedio_ultimas_5_SvGms_Player2','promedio_ultimas_5_bpSaved_Player2',\n",
    "       'promedio_ultimas_5_bpFaced_Player2',\n",
    "       'y']"
   ]
  },
  {
   "cell_type": "code",
   "execution_count": 76,
   "metadata": {},
   "outputs": [],
   "source": [
    "from sklearn.utils import shuffle\n",
    "merged_df = shuffle(merged_df)\n",
    "#all_matches_final=all_matches_final[all_matches_final['Player1_rank']<=100]\n",
    "#all_matches_final=all_matches_final[all_matches_final['Player2_rank']<=100]\n",
    "#all_matches_final=all_matches_final[all_matches_final['tourney_level'].isin(['G','M'])]\n",
    "merged_df.to_csv('C:/Users/ferna/Desktop/UTEC/Tesis 2/codigo/github_info/all_matches_versionfinal.csv', encoding='utf-8', index=False)"
   ]
  },
  {
   "cell_type": "markdown",
   "metadata": {},
   "source": [
    "## Apuestas"
   ]
  },
  {
   "cell_type": "code",
   "execution_count": 3,
   "metadata": {},
   "outputs": [
    {
     "name": "stdout",
     "output_type": "stream",
     "text": [
      "http://www.tennis-data.co.uk/2005/2005.xlsx\n",
      "http://www.tennis-data.co.uk/2006/2006.xlsx\n",
      "http://www.tennis-data.co.uk/2007/2007.xlsx\n",
      "http://www.tennis-data.co.uk/2008/2008.xlsx\n",
      "http://www.tennis-data.co.uk/2009/2009.xlsx\n",
      "http://www.tennis-data.co.uk/2010/2010.xlsx\n",
      "http://www.tennis-data.co.uk/2011/2011.xlsx\n",
      "http://www.tennis-data.co.uk/2012/2012.xlsx\n",
      "http://www.tennis-data.co.uk/2013/2013.xlsx\n"
     ]
    },
    {
     "name": "stderr",
     "output_type": "stream",
     "text": [
      "C:\\ProgramData\\Anaconda3\\lib\\site-packages\\openpyxl\\worksheet\\_read_only.py:79: UserWarning: Unknown extension is not supported and will be removed\n",
      "  for idx, row in parser.parse():\n"
     ]
    },
    {
     "name": "stdout",
     "output_type": "stream",
     "text": [
      "http://www.tennis-data.co.uk/2014/2014.xlsx\n"
     ]
    },
    {
     "name": "stderr",
     "output_type": "stream",
     "text": [
      "C:\\ProgramData\\Anaconda3\\lib\\site-packages\\openpyxl\\worksheet\\_read_only.py:79: UserWarning: Unknown extension is not supported and will be removed\n",
      "  for idx, row in parser.parse():\n"
     ]
    },
    {
     "name": "stdout",
     "output_type": "stream",
     "text": [
      "http://www.tennis-data.co.uk/2015/2015.xlsx\n"
     ]
    },
    {
     "name": "stderr",
     "output_type": "stream",
     "text": [
      "C:\\ProgramData\\Anaconda3\\lib\\site-packages\\openpyxl\\worksheet\\_read_only.py:79: UserWarning: Unknown extension is not supported and will be removed\n",
      "  for idx, row in parser.parse():\n"
     ]
    },
    {
     "name": "stdout",
     "output_type": "stream",
     "text": [
      "http://www.tennis-data.co.uk/2016/2016.xlsx\n"
     ]
    },
    {
     "name": "stderr",
     "output_type": "stream",
     "text": [
      "C:\\ProgramData\\Anaconda3\\lib\\site-packages\\openpyxl\\worksheet\\_read_only.py:79: UserWarning: Unknown extension is not supported and will be removed\n",
      "  for idx, row in parser.parse():\n"
     ]
    },
    {
     "name": "stdout",
     "output_type": "stream",
     "text": [
      "http://www.tennis-data.co.uk/2017/2017.xlsx\n",
      "http://www.tennis-data.co.uk/2018/2018.xlsx\n",
      "http://www.tennis-data.co.uk/2019/2019.xlsx\n",
      "http://www.tennis-data.co.uk/2020/2020.xlsx\n",
      "http://www.tennis-data.co.uk/2021/2021.xlsx\n",
      "http://www.tennis-data.co.uk/2022/2022.xlsx\n",
      "http://www.tennis-data.co.uk/2023/2023.xlsx\n"
     ]
    }
   ],
   "source": [
    "ext = '.xlsx'\n",
    "start = 2005\n",
    "end = 2023\n",
    "ft = 'http://www.tennis-data.co.uk/'\n",
    "\n",
    "def readfiles(ft,st,en):\n",
    "    l = []\n",
    "    for i in range(st,en+1):\n",
    "        p = ft + str(i)+'/'+ str(i)+ext\n",
    "        print(p)\n",
    "        df = pd.read_excel(p)\n",
    "        l.append(df)\n",
    "        #print(df.head(2))\n",
    "    return l\n",
    "\n",
    "files = readfiles(ft,start,end)\n",
    "all_bets = pd.concat(files)"
   ]
  },
  {
   "cell_type": "code",
   "execution_count": 4,
   "metadata": {},
   "outputs": [],
   "source": [
    "#B365W = Bet365 odds of match winner\n",
    "#B365L = Bet365 odds of match loser\n",
    "#PSW = Pinnacles Sports odds of match winner\n",
    "#PSL = Pinnacles Sports odds of match loser\n",
    "\n",
    "all_bets=all_bets[['Tournament', 'Date', 'Surface','Winner', 'Loser', 'WRank', 'LRank', 'WPts', 'LPts','B365W', 'B365L']]"
   ]
  },
  {
   "cell_type": "code",
   "execution_count": 5,
   "metadata": {},
   "outputs": [],
   "source": [
    "all_bets=all_bets[all_bets['Tournament'].isin(['US Open','Wimbledon','Australian Open'])]"
   ]
  },
  {
   "cell_type": "code",
   "execution_count": 10,
   "metadata": {},
   "outputs": [
    {
     "data": {
      "text/plain": [
       "7112"
      ]
     },
     "execution_count": 10,
     "metadata": {},
     "output_type": "execute_result"
    }
   ],
   "source": [
    "len(all_bets)"
   ]
  },
  {
   "cell_type": "code",
   "execution_count": 6,
   "metadata": {},
   "outputs": [
    {
     "data": {
      "text/html": [
       "<div>\n",
       "<style scoped>\n",
       "    .dataframe tbody tr th:only-of-type {\n",
       "        vertical-align: middle;\n",
       "    }\n",
       "\n",
       "    .dataframe tbody tr th {\n",
       "        vertical-align: top;\n",
       "    }\n",
       "\n",
       "    .dataframe thead th {\n",
       "        text-align: right;\n",
       "    }\n",
       "</style>\n",
       "<table border=\"1\" class=\"dataframe\">\n",
       "  <thead>\n",
       "    <tr style=\"text-align: right;\">\n",
       "      <th></th>\n",
       "      <th>Tournament</th>\n",
       "      <th>Date</th>\n",
       "      <th>Surface</th>\n",
       "      <th>Winner</th>\n",
       "      <th>Loser</th>\n",
       "      <th>WRank</th>\n",
       "      <th>LRank</th>\n",
       "      <th>WPts</th>\n",
       "      <th>LPts</th>\n",
       "      <th>B365W</th>\n",
       "      <th>B365L</th>\n",
       "    </tr>\n",
       "  </thead>\n",
       "  <tbody>\n",
       "    <tr>\n",
       "      <th>155</th>\n",
       "      <td>Australian Open</td>\n",
       "      <td>2005-01-17</td>\n",
       "      <td>Hard</td>\n",
       "      <td>Johansson T.</td>\n",
       "      <td>Luczak P.</td>\n",
       "      <td>31.0</td>\n",
       "      <td>152.0</td>\n",
       "      <td>NaN</td>\n",
       "      <td>NaN</td>\n",
       "      <td>1.10</td>\n",
       "      <td>6.50</td>\n",
       "    </tr>\n",
       "    <tr>\n",
       "      <th>156</th>\n",
       "      <td>Australian Open</td>\n",
       "      <td>2005-01-17</td>\n",
       "      <td>Hard</td>\n",
       "      <td>Baghdatis M.</td>\n",
       "      <td>Luzzi F.</td>\n",
       "      <td>155.0</td>\n",
       "      <td>214.0</td>\n",
       "      <td>NaN</td>\n",
       "      <td>NaN</td>\n",
       "      <td>1.36</td>\n",
       "      <td>3.00</td>\n",
       "    </tr>\n",
       "    <tr>\n",
       "      <th>157</th>\n",
       "      <td>Australian Open</td>\n",
       "      <td>2005-01-17</td>\n",
       "      <td>Hard</td>\n",
       "      <td>Zib T.</td>\n",
       "      <td>Wang Y.T.</td>\n",
       "      <td>101.0</td>\n",
       "      <td>185.0</td>\n",
       "      <td>NaN</td>\n",
       "      <td>NaN</td>\n",
       "      <td>1.36</td>\n",
       "      <td>2.87</td>\n",
       "    </tr>\n",
       "    <tr>\n",
       "      <th>158</th>\n",
       "      <td>Australian Open</td>\n",
       "      <td>2005-01-17</td>\n",
       "      <td>Hard</td>\n",
       "      <td>Phau B.</td>\n",
       "      <td>Costa A.</td>\n",
       "      <td>123.0</td>\n",
       "      <td>46.0</td>\n",
       "      <td>NaN</td>\n",
       "      <td>NaN</td>\n",
       "      <td>3.39</td>\n",
       "      <td>1.30</td>\n",
       "    </tr>\n",
       "    <tr>\n",
       "      <th>159</th>\n",
       "      <td>Australian Open</td>\n",
       "      <td>2005-01-17</td>\n",
       "      <td>Hard</td>\n",
       "      <td>Calleri A.</td>\n",
       "      <td>Mirnyi M.</td>\n",
       "      <td>66.0</td>\n",
       "      <td>44.0</td>\n",
       "      <td>NaN</td>\n",
       "      <td>NaN</td>\n",
       "      <td>2.37</td>\n",
       "      <td>1.53</td>\n",
       "    </tr>\n",
       "  </tbody>\n",
       "</table>\n",
       "</div>"
      ],
      "text/plain": [
       "          Tournament       Date Surface        Winner      Loser  WRank  \\\n",
       "155  Australian Open 2005-01-17    Hard  Johansson T.  Luczak P.   31.0   \n",
       "156  Australian Open 2005-01-17    Hard  Baghdatis M.   Luzzi F.  155.0   \n",
       "157  Australian Open 2005-01-17    Hard        Zib T.  Wang Y.T.  101.0   \n",
       "158  Australian Open 2005-01-17    Hard       Phau B.   Costa A.  123.0   \n",
       "159  Australian Open 2005-01-17    Hard    Calleri A.  Mirnyi M.   66.0   \n",
       "\n",
       "     LRank  WPts  LPts  B365W  B365L  \n",
       "155  152.0   NaN   NaN   1.10   6.50  \n",
       "156  214.0   NaN   NaN   1.36   3.00  \n",
       "157  185.0   NaN   NaN   1.36   2.87  \n",
       "158   46.0   NaN   NaN   3.39   1.30  \n",
       "159   44.0   NaN   NaN   2.37   1.53  "
      ]
     },
     "execution_count": 6,
     "metadata": {},
     "output_type": "execute_result"
    }
   ],
   "source": [
    "all_bets.head()"
   ]
  },
  {
   "cell_type": "markdown",
   "metadata": {},
   "source": [
    "## Datos"
   ]
  },
  {
   "cell_type": "code",
   "execution_count": 7,
   "metadata": {},
   "outputs": [],
   "source": [
    "data = pd.read_csv('C:/Users/ferna/Desktop/UTEC/Tesis 2/codigo/github_info/all_matches_versionfinal.csv')"
   ]
  },
  {
   "cell_type": "code",
   "execution_count": 9,
   "metadata": {},
   "outputs": [
    {
     "data": {
      "text/html": [
       "<div>\n",
       "<style scoped>\n",
       "    .dataframe tbody tr th:only-of-type {\n",
       "        vertical-align: middle;\n",
       "    }\n",
       "\n",
       "    .dataframe tbody tr th {\n",
       "        vertical-align: top;\n",
       "    }\n",
       "\n",
       "    .dataframe thead th {\n",
       "        text-align: right;\n",
       "    }\n",
       "</style>\n",
       "<table border=\"1\" class=\"dataframe\">\n",
       "  <thead>\n",
       "    <tr style=\"text-align: right;\">\n",
       "      <th></th>\n",
       "      <th>tourney_name</th>\n",
       "      <th>tourney_date</th>\n",
       "      <th>surface</th>\n",
       "      <th>Player1_name</th>\n",
       "      <th>Player2_name</th>\n",
       "    </tr>\n",
       "  </thead>\n",
       "  <tbody>\n",
       "    <tr>\n",
       "      <th>0</th>\n",
       "      <td>Wimbledon</td>\n",
       "      <td>2023-07-03</td>\n",
       "      <td>Grass</td>\n",
       "      <td>Grigor Dimitrov</td>\n",
       "      <td>Ilya Ivashka</td>\n",
       "    </tr>\n",
       "    <tr>\n",
       "      <th>1</th>\n",
       "      <td>Stockholm</td>\n",
       "      <td>2010-10-18</td>\n",
       "      <td>Hard</td>\n",
       "      <td>Matthias Bachinger</td>\n",
       "      <td>Lukasz Kubot</td>\n",
       "    </tr>\n",
       "    <tr>\n",
       "      <th>2</th>\n",
       "      <td>Miami Masters</td>\n",
       "      <td>2016-03-21</td>\n",
       "      <td>Hard</td>\n",
       "      <td>Horacio Zeballos</td>\n",
       "      <td>Fernando Verdasco</td>\n",
       "    </tr>\n",
       "    <tr>\n",
       "      <th>3</th>\n",
       "      <td>Valencia</td>\n",
       "      <td>2005-04-04</td>\n",
       "      <td>Clay</td>\n",
       "      <td>Rafael Nadal</td>\n",
       "      <td>Guillermo Garcia Lopez</td>\n",
       "    </tr>\n",
       "    <tr>\n",
       "      <th>4</th>\n",
       "      <td>Wimbledon</td>\n",
       "      <td>2021-06-28</td>\n",
       "      <td>Grass</td>\n",
       "      <td>Federico Coria</td>\n",
       "      <td>Daniel Elahi Galan</td>\n",
       "    </tr>\n",
       "    <tr>\n",
       "      <th>...</th>\n",
       "      <td>...</td>\n",
       "      <td>...</td>\n",
       "      <td>...</td>\n",
       "      <td>...</td>\n",
       "      <td>...</td>\n",
       "    </tr>\n",
       "    <tr>\n",
       "      <th>49829</th>\n",
       "      <td>Atlanta</td>\n",
       "      <td>2013-07-22</td>\n",
       "      <td>Hard</td>\n",
       "      <td>Mardy Fish</td>\n",
       "      <td>Michael Russell</td>\n",
       "    </tr>\n",
       "    <tr>\n",
       "      <th>49830</th>\n",
       "      <td>Tokyo</td>\n",
       "      <td>2019-09-30</td>\n",
       "      <td>Hard</td>\n",
       "      <td>Radu Albot</td>\n",
       "      <td>Yasutaka Uchiyama</td>\n",
       "    </tr>\n",
       "    <tr>\n",
       "      <th>49831</th>\n",
       "      <td>Tokyo</td>\n",
       "      <td>2006-10-02</td>\n",
       "      <td>Hard</td>\n",
       "      <td>Mario Ancic</td>\n",
       "      <td>Tim Henman</td>\n",
       "    </tr>\n",
       "    <tr>\n",
       "      <th>49832</th>\n",
       "      <td>Casablanca</td>\n",
       "      <td>2005-04-04</td>\n",
       "      <td>Clay</td>\n",
       "      <td>Mariano Puerta</td>\n",
       "      <td>Nicolas Almagro</td>\n",
       "    </tr>\n",
       "    <tr>\n",
       "      <th>49833</th>\n",
       "      <td>Chennai</td>\n",
       "      <td>2012-01-02</td>\n",
       "      <td>Hard</td>\n",
       "      <td>Edouard Roger Vasselin</td>\n",
       "      <td>Stan Wawrinka</td>\n",
       "    </tr>\n",
       "  </tbody>\n",
       "</table>\n",
       "<p>49834 rows × 5 columns</p>\n",
       "</div>"
      ],
      "text/plain": [
       "        tourney_name tourney_date surface            Player1_name  \\\n",
       "0          Wimbledon   2023-07-03   Grass         Grigor Dimitrov   \n",
       "1          Stockholm   2010-10-18    Hard      Matthias Bachinger   \n",
       "2      Miami Masters   2016-03-21    Hard        Horacio Zeballos   \n",
       "3           Valencia   2005-04-04    Clay            Rafael Nadal   \n",
       "4          Wimbledon   2021-06-28   Grass          Federico Coria   \n",
       "...              ...          ...     ...                     ...   \n",
       "49829        Atlanta   2013-07-22    Hard              Mardy Fish   \n",
       "49830          Tokyo   2019-09-30    Hard              Radu Albot   \n",
       "49831          Tokyo   2006-10-02    Hard             Mario Ancic   \n",
       "49832     Casablanca   2005-04-04    Clay          Mariano Puerta   \n",
       "49833        Chennai   2012-01-02    Hard  Edouard Roger Vasselin   \n",
       "\n",
       "                 Player2_name  \n",
       "0                Ilya Ivashka  \n",
       "1                Lukasz Kubot  \n",
       "2           Fernando Verdasco  \n",
       "3      Guillermo Garcia Lopez  \n",
       "4          Daniel Elahi Galan  \n",
       "...                       ...  \n",
       "49829         Michael Russell  \n",
       "49830       Yasutaka Uchiyama  \n",
       "49831              Tim Henman  \n",
       "49832         Nicolas Almagro  \n",
       "49833           Stan Wawrinka  \n",
       "\n",
       "[49834 rows x 5 columns]"
      ]
     },
     "execution_count": 9,
     "metadata": {},
     "output_type": "execute_result"
    }
   ],
   "source": [
    "data[['tourney_name','tourney_date','surface','Player1_name','Player2_name']]"
   ]
  },
  {
   "cell_type": "code",
   "execution_count": 4,
   "metadata": {},
   "outputs": [
    {
     "data": {
      "text/plain": [
       "49834"
      ]
     },
     "execution_count": 4,
     "metadata": {},
     "output_type": "execute_result"
    }
   ],
   "source": [
    "len(data)"
   ]
  },
  {
   "cell_type": "code",
   "execution_count": 33,
   "metadata": {},
   "outputs": [],
   "source": [
    "data=data[data['tourney_name'].isin(['US Open','Wimbledon','Australian Open'])]"
   ]
  },
  {
   "cell_type": "code",
   "execution_count": 8,
   "metadata": {},
   "outputs": [
    {
     "data": {
      "text/plain": [
       "['Australian Open', 'US Open', 'Wimbledon']"
      ]
     },
     "execution_count": 8,
     "metadata": {},
     "output_type": "execute_result"
    }
   ],
   "source": [
    "sorted(data['tourney_name'].unique())"
   ]
  },
  {
   "cell_type": "code",
   "execution_count": 9,
   "metadata": {},
   "outputs": [
    {
     "data": {
      "text/plain": [
       "6604"
      ]
     },
     "execution_count": 9,
     "metadata": {},
     "output_type": "execute_result"
    }
   ],
   "source": [
    "len(data)"
   ]
  },
  {
   "cell_type": "code",
   "execution_count": 34,
   "metadata": {},
   "outputs": [],
   "source": [
    "nueva_data=data[data['tourney_date']<'2023-01-01']"
   ]
  },
  {
   "cell_type": "code",
   "execution_count": 18,
   "metadata": {},
   "outputs": [
    {
     "data": {
      "text/plain": [
       "6350"
      ]
     },
     "execution_count": 18,
     "metadata": {},
     "output_type": "execute_result"
    }
   ],
   "source": [
    "len(nueva_data)"
   ]
  },
  {
   "cell_type": "markdown",
   "metadata": {},
   "source": [
    "## Cruce"
   ]
  },
  {
   "cell_type": "code",
   "execution_count": 11,
   "metadata": {},
   "outputs": [],
   "source": [
    "import re\n",
    "\n",
    "def convertir_formato(nombre_completo):\n",
    "    # Dividir el nombre completo en apellido y nombre\n",
    "    partes = nombre_completo.split(' ')\n",
    "    \n",
    "    # Tomar el primer carácter del primer componente del nombre (manejar apellidos compuestos)\n",
    "    inicial_nombre = re.sub(r'\\W+', '', partes[0])[0].upper()\n",
    "    \n",
    "    # Unir el apellido y la inicial del nombre\n",
    "    nuevo_formato = f\"{partes[-1]} {inicial_nombre}.\"\n",
    "    \n",
    "    return nuevo_formato\n",
    "\n",
    "# Aplicar la función a la columna 'Player1_name' de la primera tabla\n",
    "data['Player1_name'] = data['Player1_name'].apply(convertir_formato)\n",
    "data['Player2_name'] = data['Player2_name'].apply(convertir_formato)"
   ]
  },
  {
   "cell_type": "code",
   "execution_count": 13,
   "metadata": {},
   "outputs": [],
   "source": [
    "data['tourney_date'] = pd.to_datetime(data['tourney_date'])\n",
    "all_bets['Date'] = pd.to_datetime(all_bets['Date'])"
   ]
  },
  {
   "cell_type": "code",
   "execution_count": 38,
   "metadata": {},
   "outputs": [
    {
     "data": {
      "text/html": [
       "<div>\n",
       "<style scoped>\n",
       "    .dataframe tbody tr th:only-of-type {\n",
       "        vertical-align: middle;\n",
       "    }\n",
       "\n",
       "    .dataframe tbody tr th {\n",
       "        vertical-align: top;\n",
       "    }\n",
       "\n",
       "    .dataframe thead th {\n",
       "        text-align: right;\n",
       "    }\n",
       "</style>\n",
       "<table border=\"1\" class=\"dataframe\">\n",
       "  <thead>\n",
       "    <tr style=\"text-align: right;\">\n",
       "      <th></th>\n",
       "      <th>Tournament</th>\n",
       "      <th>Date</th>\n",
       "      <th>Surface</th>\n",
       "      <th>Winner</th>\n",
       "      <th>Loser</th>\n",
       "      <th>WRank</th>\n",
       "      <th>LRank</th>\n",
       "      <th>WPts</th>\n",
       "      <th>LPts</th>\n",
       "      <th>B365W</th>\n",
       "      <th>B365L</th>\n",
       "    </tr>\n",
       "  </thead>\n",
       "  <tbody>\n",
       "    <tr>\n",
       "      <th>155</th>\n",
       "      <td>Australian Open</td>\n",
       "      <td>2005-01-17</td>\n",
       "      <td>Hard</td>\n",
       "      <td>Johansson T.</td>\n",
       "      <td>Luczak P.</td>\n",
       "      <td>31.0</td>\n",
       "      <td>152.0</td>\n",
       "      <td>NaN</td>\n",
       "      <td>NaN</td>\n",
       "      <td>1.10</td>\n",
       "      <td>6.50</td>\n",
       "    </tr>\n",
       "    <tr>\n",
       "      <th>163</th>\n",
       "      <td>Australian Open</td>\n",
       "      <td>2005-01-17</td>\n",
       "      <td>Hard</td>\n",
       "      <td>Gaudio G.</td>\n",
       "      <td>Gimelstob J.</td>\n",
       "      <td>10.0</td>\n",
       "      <td>144.0</td>\n",
       "      <td>NaN</td>\n",
       "      <td>NaN</td>\n",
       "      <td>1.50</td>\n",
       "      <td>2.50</td>\n",
       "    </tr>\n",
       "    <tr>\n",
       "      <th>168</th>\n",
       "      <td>Australian Open</td>\n",
       "      <td>2005-01-17</td>\n",
       "      <td>Hard</td>\n",
       "      <td>Robredo T.</td>\n",
       "      <td>Draper S.</td>\n",
       "      <td>13.0</td>\n",
       "      <td>NaN</td>\n",
       "      <td>NaN</td>\n",
       "      <td>NaN</td>\n",
       "      <td>1.08</td>\n",
       "      <td>7.00</td>\n",
       "    </tr>\n",
       "    <tr>\n",
       "      <th>167</th>\n",
       "      <td>Australian Open</td>\n",
       "      <td>2005-01-17</td>\n",
       "      <td>Hard</td>\n",
       "      <td>Federer R.</td>\n",
       "      <td>Santoro F.</td>\n",
       "      <td>1.0</td>\n",
       "      <td>49.0</td>\n",
       "      <td>NaN</td>\n",
       "      <td>NaN</td>\n",
       "      <td>1.01</td>\n",
       "      <td>15.00</td>\n",
       "    </tr>\n",
       "    <tr>\n",
       "      <th>166</th>\n",
       "      <td>Australian Open</td>\n",
       "      <td>2005-01-17</td>\n",
       "      <td>Hard</td>\n",
       "      <td>Suzuki T.</td>\n",
       "      <td>Gambill J.M.</td>\n",
       "      <td>203.0</td>\n",
       "      <td>90.0</td>\n",
       "      <td>NaN</td>\n",
       "      <td>NaN</td>\n",
       "      <td>2.00</td>\n",
       "      <td>1.72</td>\n",
       "    </tr>\n",
       "    <tr>\n",
       "      <th>...</th>\n",
       "      <td>...</td>\n",
       "      <td>...</td>\n",
       "      <td>...</td>\n",
       "      <td>...</td>\n",
       "      <td>...</td>\n",
       "      <td>...</td>\n",
       "      <td>...</td>\n",
       "      <td>...</td>\n",
       "      <td>...</td>\n",
       "      <td>...</td>\n",
       "      <td>...</td>\n",
       "    </tr>\n",
       "    <tr>\n",
       "      <th>2220</th>\n",
       "      <td>US Open</td>\n",
       "      <td>2023-09-06</td>\n",
       "      <td>Hard</td>\n",
       "      <td>Medvedev D.</td>\n",
       "      <td>Rublev A.</td>\n",
       "      <td>3.0</td>\n",
       "      <td>8.0</td>\n",
       "      <td>6260.0</td>\n",
       "      <td>4515.0</td>\n",
       "      <td>1.36</td>\n",
       "      <td>3.20</td>\n",
       "    </tr>\n",
       "    <tr>\n",
       "      <th>2221</th>\n",
       "      <td>US Open</td>\n",
       "      <td>2023-09-07</td>\n",
       "      <td>Hard</td>\n",
       "      <td>Alcaraz C.</td>\n",
       "      <td>Zverev A.</td>\n",
       "      <td>1.0</td>\n",
       "      <td>12.0</td>\n",
       "      <td>9815.0</td>\n",
       "      <td>2670.0</td>\n",
       "      <td>1.20</td>\n",
       "      <td>4.50</td>\n",
       "    </tr>\n",
       "    <tr>\n",
       "      <th>2222</th>\n",
       "      <td>US Open</td>\n",
       "      <td>2023-09-08</td>\n",
       "      <td>Hard</td>\n",
       "      <td>Djokovic N.</td>\n",
       "      <td>Shelton B.</td>\n",
       "      <td>2.0</td>\n",
       "      <td>47.0</td>\n",
       "      <td>9795.0</td>\n",
       "      <td>1015.0</td>\n",
       "      <td>1.06</td>\n",
       "      <td>10.00</td>\n",
       "    </tr>\n",
       "    <tr>\n",
       "      <th>2223</th>\n",
       "      <td>US Open</td>\n",
       "      <td>2023-09-09</td>\n",
       "      <td>Hard</td>\n",
       "      <td>Medvedev D.</td>\n",
       "      <td>Alcaraz C.</td>\n",
       "      <td>3.0</td>\n",
       "      <td>1.0</td>\n",
       "      <td>6260.0</td>\n",
       "      <td>9815.0</td>\n",
       "      <td>4.33</td>\n",
       "      <td>1.22</td>\n",
       "    </tr>\n",
       "    <tr>\n",
       "      <th>2224</th>\n",
       "      <td>US Open</td>\n",
       "      <td>2023-09-10</td>\n",
       "      <td>Hard</td>\n",
       "      <td>Djokovic N.</td>\n",
       "      <td>Medvedev D.</td>\n",
       "      <td>2.0</td>\n",
       "      <td>3.0</td>\n",
       "      <td>9795.0</td>\n",
       "      <td>6260.0</td>\n",
       "      <td>1.44</td>\n",
       "      <td>2.88</td>\n",
       "    </tr>\n",
       "  </tbody>\n",
       "</table>\n",
       "<p>7112 rows × 11 columns</p>\n",
       "</div>"
      ],
      "text/plain": [
       "           Tournament       Date Surface        Winner         Loser  WRank  \\\n",
       "155   Australian Open 2005-01-17    Hard  Johansson T.     Luczak P.   31.0   \n",
       "163   Australian Open 2005-01-17    Hard     Gaudio G.  Gimelstob J.   10.0   \n",
       "168   Australian Open 2005-01-17    Hard    Robredo T.     Draper S.   13.0   \n",
       "167   Australian Open 2005-01-17    Hard    Federer R.    Santoro F.    1.0   \n",
       "166   Australian Open 2005-01-17    Hard     Suzuki T.  Gambill J.M.  203.0   \n",
       "...               ...        ...     ...           ...           ...    ...   \n",
       "2220          US Open 2023-09-06    Hard   Medvedev D.     Rublev A.    3.0   \n",
       "2221          US Open 2023-09-07    Hard    Alcaraz C.     Zverev A.    1.0   \n",
       "2222          US Open 2023-09-08    Hard   Djokovic N.    Shelton B.    2.0   \n",
       "2223          US Open 2023-09-09    Hard   Medvedev D.    Alcaraz C.    3.0   \n",
       "2224          US Open 2023-09-10    Hard   Djokovic N.   Medvedev D.    2.0   \n",
       "\n",
       "      LRank    WPts    LPts  B365W  B365L  \n",
       "155   152.0     NaN     NaN   1.10   6.50  \n",
       "163   144.0     NaN     NaN   1.50   2.50  \n",
       "168     NaN     NaN     NaN   1.08   7.00  \n",
       "167    49.0     NaN     NaN   1.01  15.00  \n",
       "166    90.0     NaN     NaN   2.00   1.72  \n",
       "...     ...     ...     ...    ...    ...  \n",
       "2220    8.0  6260.0  4515.0   1.36   3.20  \n",
       "2221   12.0  9815.0  2670.0   1.20   4.50  \n",
       "2222   47.0  9795.0  1015.0   1.06  10.00  \n",
       "2223    1.0  6260.0  9815.0   4.33   1.22  \n",
       "2224    3.0  9795.0  6260.0   1.44   2.88  \n",
       "\n",
       "[7112 rows x 11 columns]"
      ]
     },
     "execution_count": 38,
     "metadata": {},
     "output_type": "execute_result"
    }
   ],
   "source": [
    "all_bets"
   ]
  },
  {
   "cell_type": "code",
   "execution_count": 40,
   "metadata": {},
   "outputs": [],
   "source": [
    "result1 = data.merge(all_bets, how='left', left_on=['tourney_date', 'Player1_name', 'Player2_name'], right_on=['Date', 'Winner', 'Loser'])\n",
    "result1['Player1_odds'] = result1['B365W']\n",
    "result1['Player2_odds'] = result1['B365L']\n",
    "result1.drop(['Tournament','Date','Surface','Winner','Loser','WRank','LRank','WPts','LPts','B365W','B365L'], axis=1, inplace=True)\n",
    "\n",
    "# Segundo merge\n",
    "result2 = data.merge(all_bets, how='left', left_on=['tourney_date', 'Player2_name', 'Player1_name'], right_on=['Date', 'Winner', 'Loser'])\n",
    "result2['Player1_odds'] = result2['B365L']\n",
    "result2['Player2_odds'] = result2['B365W']\n",
    "result2.drop(['Tournament','Date','Surface','Winner','Loser','WRank','LRank','WPts','LPts','B365W','B365L'], axis=1, inplace=True)\n",
    "\n",
    "# Combinar los resultados\n",
    "result = pd.concat([result1, result2])\n",
    "\n",
    "# Eliminar duplicados basados en índices\n",
    "result = result.loc[~result.index.duplicated(keep='first')]"
   ]
  },
  {
   "cell_type": "code",
   "execution_count": null,
   "metadata": {},
   "outputs": [],
   "source": []
  },
  {
   "cell_type": "code",
   "execution_count": 42,
   "metadata": {},
   "outputs": [],
   "source": [
    "result.to_csv('C:/Users/ferna/Desktop/UTEC/Tesis 2/codigo/github_info/all_matches_versionfinal_apuestas.csv', encoding='utf-8', index=False)"
   ]
  }
 ],
 "metadata": {
  "colab": {
   "name": "tennis_preprocessing.ipynb",
   "provenance": []
  },
  "kernelspec": {
   "display_name": "Python 3 (ipykernel)",
   "language": "python",
   "name": "python3"
  },
  "language_info": {
   "codemirror_mode": {
    "name": "ipython",
    "version": 3
   },
   "file_extension": ".py",
   "mimetype": "text/x-python",
   "name": "python",
   "nbconvert_exporter": "python",
   "pygments_lexer": "ipython3",
   "version": "3.9.13"
  }
 },
 "nbformat": 4,
 "nbformat_minor": 1
}
